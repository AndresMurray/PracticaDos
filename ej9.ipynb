{
 "cells": [
  {
   "cell_type": "markdown",
   "metadata": {},
   "source": [
    "#### *Ejercicio 9*"
   ]
  },
  {
   "cell_type": "code",
   "execution_count": 8,
   "metadata": {},
   "outputs": [
    {
     "name": "stdout",
     "output_type": "stream",
     "text": [
      "palabra solo\n",
      "valor 4\n"
     ]
    }
   ],
   "source": [
    "word=input(\"ingrese una palabra:\")\n",
    "wordup=word.upper()\n",
    "lista=list(wordup)\n",
    "\n",
    "\n",
    "valores={(\"A\", \"E\", \"I\", \"O\", \"U\",\"L\", \"N\", \"R\", \"S\", \"T\"):1,(\"D\",\"G\"):2,(\"B\",\"C\",\"M\",\"P\"):3,\n",
    "(\"F\", \"H\", \"V\", \"W\", \"Y\"):4,(\"K\",):5,(\"J\",\"X\"):8,(\"Q\",\"Z\"):10} \n",
    "valor=0\n",
    "for palabras, puntaje in valores.items():\n",
    "    for letter in lista:\n",
    "        if letter in palabras:\n",
    "            valor+=puntaje\n",
    "print(f\"palabra {word}\")\n",
    "print(f\"valor {valor}\")\n",
    "\n"
   ]
  }
 ],
 "metadata": {
  "kernelspec": {
   "display_name": "venv",
   "language": "python",
   "name": "python3"
  },
  "language_info": {
   "codemirror_mode": {
    "name": "ipython",
    "version": 3
   },
   "file_extension": ".py",
   "mimetype": "text/x-python",
   "name": "python",
   "nbconvert_exporter": "python",
   "pygments_lexer": "ipython3",
   "version": "3.11.7"
  }
 },
 "nbformat": 4,
 "nbformat_minor": 2
}
