{
 "cells": [
  {
   "cell_type": "markdown",
   "metadata": {},
   "source": [
    "## Enunciado 5"
   ]
  },
  {
   "cell_type": "markdown",
   "metadata": {},
   "source": [
    "Para la aceptación de un artículo en un congreso se definen las siguientes\n",
    "especificaciones que deben cumplir y recomendaciones de escritura:\n",
    "Es importante destacar que los números no se consideran palabras al momento del\n",
    "análisis por su facilidad de lectura.\n",
    "Dado un artículo en formato string, defina si cumple las especificaciones del título y\n",
    "cuántas oraciones tiene de cada categoría. El formato estándar en que recibe el string\n",
    "tiene la siguiente forma:\n",
    "1. título: 10 palabras como máximo\n",
    "1. cada oración del resumen:\n",
    "1. hasta 12 palabras: fácil de leer\n",
    "1. entre 13-17 palabras: aceptable para leer\n",
    "1. entre 18-25 palabras: difícil de leer\n",
    "1. mas de 25 palabras: muy difícil\n",
    "\n",
    "Es importante destacar que los números no se consideran palabras al momento del\n",
    "análisis por su facilidad de lectura.\n",
    "Dado un artículo en formato string, defina si cumple las especificaciones del título y\n",
    "cuántas oraciones tiene de cada categoría. El formato estándar en que recibe el string\n",
    "tiene la siguiente forma:\n",
    "\n",
    "* article = \"\"\" título: Experiences in Developing a Distributed Agent\u0002based Modeling Toolkit with Python Version 3\n",
    "resumen: Distributed agent-based modeling (ABM) on high-performance\n",
    "computing resources provides the promise of capturing unprecedented\n",
    "details of large-scale complex systems. However, the specialized\n",
    "knowledge required for developing such ABMs creates barriers to wider\n",
    "adoption and utilization. Here we present our experiences in\n",
    "developing an initial implementation of Repast4Py, a Python-based\n",
    "distributed ABM toolkit. We build on our experiences in developing ABM\n",
    "toolkits, including Repast for High Performance Computing (Repast\n",
    "HPC), to identify the key elements of a useful distributed ABM\n",
    "toolkit. We leverage the Numba, NumPy, and PyTorch packages and the\n",
    "Python C-API to create a scalable modeling system that can exploit the\n",
    "largest HPC resources and emerging computing architectures. \"\"\"\n",
    "* En este ejemplo se debe informar:\n",
    "* título: not ok\n",
    "* Cantidad de oraciones fáciles de leer: 1, aceptables para leer: 2, dificil de leer: 1,\n",
    "   muy difícil de leer: 2\n",
    "\n"
   ]
  },
  {
   "cell_type": "code",
   "execution_count": 52,
   "metadata": {},
   "outputs": [],
   "source": [
    "import string\n",
    "article = \"\"\" título: Experiences in Developing a Distributed Agent-based Modeling Toolkit with Python Version 3\n",
    "resumen: Distributed agent-based modeling (ABM) on high-performance\n",
    "computing resources provides the promise of capturing unprecedented\n",
    "details of large-scale complex systems. However, the specialized\n",
    "knowledge required for developing such ABMs creates barriers to wider\n",
    "adoption and utilization. Here we present our experiences in\n",
    "developing an initial implementation of Repast4Py, a Python-based\n",
    "distributed ABM toolkit. We build on our experiences in developing ABM\n",
    "toolkits, including Repast for High Performance Computing (Repast\n",
    "HPC), to identify the key elements of a useful distributed ABM\n",
    "toolkit. We leverage the Numba, NumPy, and PyTorch packages and the\n",
    "En este ejemplo se debe informar:\n",
    "Python C-API to create a scalable modeling system that can exploit the\n",
    "largest HPC resources and emerging computing architectures. \"\"\"\n",
    "\n"
   ]
  },
  {
   "cell_type": "markdown",
   "metadata": {},
   "source": [
    "*Divido el texto en titulo y resumen, y realizo el analisis del titulo:*"
   ]
  },
  {
   "cell_type": "code",
   "execution_count": 45,
   "metadata": {},
   "outputs": [],
   "source": [
    "parts=article.split('resumen:')\n",
    "numbers=string.digits\n",
    "title=parts[0]\n",
    "title_without_numbers=title\n",
    "for num in numbers:\n",
    "    title_without_numbers=title_without_numbers.replace(num,\"\").replace(\"\\n\",\"\")\n",
    "title_words=title_without_numbers.split()\n",
    "if len(title_words) > 10:\n",
    "    title_ok= \"not ok\"\n",
    "else:\n",
    "    title_ok= \"ok\""
   ]
  },
  {
   "cell_type": "markdown",
   "metadata": {},
   "source": [
    "*Divido al resumen oraciones y trabajo con las mismas*"
   ]
  },
  {
   "cell_type": "code",
   "execution_count": 51,
   "metadata": {},
   "outputs": [
    {
     "name": "stdout",
     "output_type": "stream",
     "text": [
      "titulo: not ok\n",
      "cantidad de oraciones faciles: 1, aceptables: 2, dificil 1, muy dificil 2\n"
     ]
    }
   ],
   "source": [
    "resumen=parts[1]\n",
    "sentences=resumen.split('.')\n",
    "facil=0\n",
    "aceptable=0\n",
    "dificil=0\n",
    "muy_dificil=0\n",
    "for sentence in sentences:\n",
    "    words=sentence.split()\n",
    "    words=[word for word in words if word not in numbers]\n",
    "    cant=len(words)\n",
    "    if cant <= 12:\n",
    "        facil+=1\n",
    "    elif cant>12 and cant<=17:\n",
    "        aceptable+=1\n",
    "    elif cant>18 and cant<=25:\n",
    "        dificil+=1\n",
    "    else:\n",
    "        muy_dificil+=1\n",
    "print(f\"titulo: {title_ok}\")\n",
    "print(f\"cantidad de oraciones faciles: {facil}, aceptables: {aceptable}, dificil {dificil}, muy dificil {muy_dificil}\")"
   ]
  }
 ],
 "metadata": {
  "kernelspec": {
   "display_name": "venv",
   "language": "python",
   "name": "python3"
  },
  "language_info": {
   "codemirror_mode": {
    "name": "ipython",
    "version": 3
   },
   "file_extension": ".py",
   "mimetype": "text/x-python",
   "name": "python",
   "nbconvert_exporter": "python",
   "pygments_lexer": "ipython3",
   "version": "3.11.7"
  }
 },
 "nbformat": 4,
 "nbformat_minor": 2
}
