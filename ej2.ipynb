{
 "cells": [
  {
   "cell_type": "markdown",
   "metadata": {},
   "source": [
    "## Enunciado Dos\n",
    "\n",
    "*2. Indique la palabra con más de 4 caracteres que aparece mayor cantidad de veces en\n",
    "el texto del README.md de numpy. Copie y pegue el texto en una variable.\n",
    "Recordemos algunas funciones de string:\n",
    "Investigue el módulo Counter para simplificar la resolución.+*"
   ]
  },
  {
   "cell_type": "code",
   "execution_count": 29,
   "metadata": {},
   "outputs": [],
   "source": [
    "from collections import Counter \n",
    "text= \"\"\" hola Problemas mundos imaginarios uy incosciente como estan todos. hola esto es una prueba de python\n",
    "hola. como ya saben probleMas mundos\n",
    " \"\"\"\n",
    "\n",
    "words=text.split()\n",
    "\n",
    "\n",
    "count=Counter(words)\n"
   ]
  },
  {
   "cell_type": "markdown",
   "metadata": {},
   "source": [
    "*Pasamos la lista de palabras a minúsculas y contamos la cantidad de palabras*"
   ]
  },
  {
   "cell_type": "code",
   "execution_count": 30,
   "metadata": {},
   "outputs": [],
   "source": [
    "words_lower_case=[word.lower() for word in words]\n",
    "words_lower_case\n",
    "count=Counter(words_lower_case)\n",
    "\n"
   ]
  },
  {
   "cell_type": "markdown",
   "metadata": {},
   "source": [
    "*Iterar sobre las palabras para contar las que tengan mas de cuatro letras*\n"
   ]
  },
  {
   "cell_type": "code",
   "execution_count": 31,
   "metadata": {},
   "outputs": [
    {
     "name": "stdout",
     "output_type": "stream",
     "text": [
      "la palabra que mayor cantidad de veces aparece es: problemas y aparece 2 veces\n"
     ]
    }
   ],
   "source": [
    "max=0 ##contador para palabra que más vecesaparece\n",
    "for word,amount in count.items():\n",
    "   if len(word) > 4 :\n",
    "      if amount > max:\n",
    "         maxword=word\n",
    "         max=amount\n",
    "print(f'la palabra que mayor cantidad de veces aparece es: {maxword} y aparece {max} veces')\n",
    "      "
   ]
  }
 ],
 "metadata": {
  "kernelspec": {
   "display_name": "venv",
   "language": "python",
   "name": "python3"
  },
  "language_info": {
   "codemirror_mode": {
    "name": "ipython",
    "version": 3
   },
   "file_extension": ".py",
   "mimetype": "text/x-python",
   "name": "python",
   "nbconvert_exporter": "python",
   "pygments_lexer": "ipython3",
   "version": "3.11.7"
  }
 },
 "nbformat": 4,
 "nbformat_minor": 2
}
