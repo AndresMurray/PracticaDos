{
 "cells": [
  {
   "cell_type": "code",
   "execution_count": 22,
   "metadata": {},
   "outputs": [
    {
     "name": "stdout",
     "output_type": "stream",
     "text": [
      "No hay letras a , ni n. \n"
     ]
    }
   ],
   "source": [
    "word = input(\"Ingresá una palabra: \")\n",
    "if \"a\" in word and \"n\" in word:\n",
    "  print(\"La palabra contiene una letra a y una n\")\n",
    "elif \"a\" in word:\n",
    "  print(\"Hay al menos una letra a\")\n",
    "elif \"n\" in word:\n",
    "  print(\"Hay al menos una letra n\")\n",
    "else:\n",
    "  print(\"No hay letras a , ni n. \")"
   ]
  }
 ],
 "metadata": {
  "kernelspec": {
   "display_name": "venv",
   "language": "python",
   "name": "python3"
  },
  "language_info": {
   "codemirror_mode": {
    "name": "ipython",
    "version": 3
   },
   "file_extension": ".py",
   "mimetype": "text/x-python",
   "name": "python",
   "nbconvert_exporter": "python",
   "pygments_lexer": "ipython3",
   "version": "3.11.7"
  }
 },
 "nbformat": 4,
 "nbformat_minor": 2
}
