{
 "cells": [
  {
   "cell_type": "markdown",
   "metadata": {},
   "source": [
    "# Ejercicio 7"
   ]
  },
  {
   "cell_type": "markdown",
   "metadata": {},
   "source": [
    "### Enunciado\n",
    "\n",
    "Dada una frase contar mayúsculas, minúsculas, caracteres no letras y la cantidad de\n",
    "palabras sin distinguir entre mayúsculas y minúsculas.\n",
    "\n",
    "text = \"\"\" La brecha salarial alcanzó el 27,7%: las mujeres ocupadas\n",
    "debieron trabajar 8 días y 10 horas más que los varones ocupados para\n",
    "ganar lo mismo que ellos en un mes. \"\"\""
   ]
  },
  {
   "cell_type": "code",
   "execution_count": 10,
   "metadata": {},
   "outputs": [
    {
     "name": "stdout",
     "output_type": "stream",
     "text": [
      "la cantidad de palabras es: 1\n",
      "la cantidad de minusculas es 120\n",
      "la cantidad de mayusculas es 1\n",
      "la cantidad de caracteres no letras es 13\n"
     ]
    }
   ],
   "source": [
    "import string\n",
    "\n",
    "text=\"\"\" La brecha salarial alcanzó el 27,7%: las mujeres ocupadas\n",
    "debieron trabajar 8 días y 10 horas más que los varones ocupados para\n",
    "ganar lo mismo que ellos en un mes. \"\"\"\n",
    "\n",
    "lowercase=string.ascii_lowercase\n",
    "upcase=string.ascii_uppercase\n",
    "special_characters=[\"%\",\":\",\",\"]\n",
    "numbers=string.digits\n",
    "characters_no_word=special_characters+list(numbers)\n",
    "words=text.split()\n",
    "lower=0\n",
    "upper=0\n",
    "no_word=0\n",
    "palabra=0\n",
    "for word in words:\n",
    "    if word in lowercase:\n",
    "        palabra+=1\n",
    "    if word in upcase:\n",
    "        palabra+=1\n",
    "    for character in word:\n",
    "        if character in lowercase:\n",
    "            lower+=1\n",
    "        elif character in upcase:\n",
    "            upper+=1\n",
    "        else:\n",
    "            no_word+=1          \n",
    "\n",
    "print(f\"la cantidad de palabras es: {palabra}\")\n",
    "print(f\"la cantidad de minusculas es {lower}\")\n",
    "print(f\"la cantidad de mayusculas es {upper}\")\n",
    "print(f\"la cantidad de caracteres no letras es {no_word}\")\n",
    "\n"
   ]
  }
 ],
 "metadata": {
  "kernelspec": {
   "display_name": "venv",
   "language": "python",
   "name": "python3"
  },
  "language_info": {
   "codemirror_mode": {
    "name": "ipython",
    "version": 3
   },
   "file_extension": ".py",
   "mimetype": "text/x-python",
   "name": "python",
   "nbconvert_exporter": "python",
   "pygments_lexer": "ipython3",
   "version": "3.11.7"
  }
 },
 "nbformat": 4,
 "nbformat_minor": 2
}
