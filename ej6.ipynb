{
 "cells": [
  {
   "cell_type": "markdown",
   "metadata": {},
   "source": [
    "## *Ejercicio 6*"
   ]
  },
  {
   "cell_type": "code",
   "execution_count": 11,
   "metadata": {},
   "outputs": [
    {
     "name": "stdout",
     "output_type": "stream",
     "text": [
      "para la frase: hola a todos Hola\n",
      "palabra: hola\n",
      "resultado 2\n"
     ]
    }
   ],
   "source": [
    "\n",
    "frase=input(\"ingrese una frase\")\n",
    "fras=frase\n",
    "frase.lower\n",
    "lista=frase.split()\n",
    "\n",
    "palabra=input(\"ingrese una palabra\")\n",
    "pal=palabra\n",
    "palabra.lower\n",
    "cant=0\n",
    "for word in lista:\n",
    "    if word in palabra:\n",
    "        cant+=1\n",
    "print(f\"para la frase: {fras}\")\n",
    "print(f\"palabra: {pal}\")\n",
    "print(f\"resultado {cant}\")\n",
    "\n",
    "\n"
   ]
  }
 ],
 "metadata": {
  "kernelspec": {
   "display_name": "venv",
   "language": "python",
   "name": "python3"
  },
  "language_info": {
   "codemirror_mode": {
    "name": "ipython",
    "version": 3
   },
   "file_extension": ".py",
   "mimetype": "text/x-python",
   "name": "python",
   "nbconvert_exporter": "python",
   "pygments_lexer": "ipython3",
   "version": "3.11.7"
  }
 },
 "nbformat": 4,
 "nbformat_minor": 2
}
