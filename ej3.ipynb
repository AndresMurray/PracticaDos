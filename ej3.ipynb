{
 "cells": [
  {
   "cell_type": "markdown",
   "metadata": {},
   "source": [
    "## Enunciado 3\n",
    " Dado el siguiente texto guardado en la varible jupyter_info, solicite por teclado una\n",
    "letra e imprima las palabras que contengan dicha letra. En caso que no se haya\n",
    "ingresado un letra, indique el error. Ver: módulo string\n",
    "jupyter_info = \"\"\" JupyterLab is a web-based interactive development\n",
    "environment for Jupyter notebooks, code, and data. JupyterLab is\n",
    "flexible: configure and arrange the user interface to support a wide\n",
    "range of workflows in data science, scientific computing, and machine\n",
    "learning. JupyterLab is extensible and modular: write plugins that add\n",
    "new components and integrate with existing ones. \"\"\""
   ]
  },
  {
   "cell_type": "code",
   "execution_count": 7,
   "metadata": {},
   "outputs": [],
   "source": [
    "import string\n",
    "jupyter_info = \"\"\" JupyterLab is a web-based interactive development\n",
    "environment for Jupyter notebooks, code, and data. JupyterLab is\n",
    "flexible: configure and arrange the user interface to support a wide\n",
    "range of workflows in data science, scientific computing, and machine\n",
    "learning. JupyterLab is extensible and modular: write plugins that add\n",
    "new components and integrate with existing ones. \"\"\""
   ]
  },
  {
   "cell_type": "code",
   "execution_count": 8,
   "metadata": {},
   "outputs": [
    {
     "name": "stdout",
     "output_type": "stream",
     "text": [
      "error no ha ingresado una letra\n",
      "error no ha ingresado una letra\n",
      "development\n",
      "flexible:\n",
      "workflows\n",
      "learning.\n",
      "extensible\n",
      "modular:\n",
      "plugins\n"
     ]
    }
   ],
   "source": [
    "words=jupyter_info.split()\n",
    "letters=string.ascii_letters\n",
    "lett= input(\"ingrese una letra\")\n",
    "while not lett in letters:\n",
    "  print(\"error no ha ingresado una letra\")\n",
    "  lett= input(\"ingrese una letra\")\n",
    "  continue\n",
    "for word in words:\n",
    "    for letter in word:\n",
    "        if lett in letter:\n",
    "           print(word)\n",
    "           break\n",
    "      "
   ]
  }
 ],
 "metadata": {
  "kernelspec": {
   "display_name": "venv",
   "language": "python",
   "name": "python3"
  },
  "language_info": {
   "codemirror_mode": {
    "name": "ipython",
    "version": 3
   },
   "file_extension": ".py",
   "mimetype": "text/x-python",
   "name": "python",
   "nbconvert_exporter": "python",
   "pygments_lexer": "ipython3",
   "version": "3.11.7"
  }
 },
 "nbformat": 4,
 "nbformat_minor": 2
}
